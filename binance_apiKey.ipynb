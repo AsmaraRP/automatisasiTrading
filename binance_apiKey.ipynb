{
 "cells": [
  {
   "cell_type": "code",
   "execution_count": null,
   "metadata": {},
   "outputs": [],
   "source": [
    "api_key =\"lxcthmh08Zv9EGpfnG3vGU9bO2LzeRUG3sS3xxxxxxxxx\"\n",
    "api_secret = \"3HKvYIkNc8EwHiKJVJjsDCkQuZZM4QbBSoxxxxxxxxxxxxxxxxx\""
   ]
  }
 ],
 "metadata": {
  "kernelspec": {
   "display_name": "Python 3.10.0 64-bit",
   "language": "python",
   "name": "python3"
  },
  "language_info": {
   "name": "python",
   "version": "3.10.0"
  },
  "orig_nbformat": 4,
  "vscode": {
   "interpreter": {
    "hash": "27f6fea6f47ae512550f0b8facdbd035a93e1dd89633f7bf2dd00a2502c71d0d"
   }
  }
 },
 "nbformat": 4,
 "nbformat_minor": 2
}
